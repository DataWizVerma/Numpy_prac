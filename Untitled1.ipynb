{
 "cells": [
  {
   "cell_type": "markdown",
   "id": "da1c4e52-cdaa-4ce4-bf9c-440567517695",
   "metadata": {},
   "source": [
    "Question 1:\n",
    "How can you create a 1D NumPy array containing the values [10, 20, 30, 40, 50]?"
   ]
  },
  {
   "cell_type": "code",
   "execution_count": 2,
   "id": "15c64027-95d7-41a3-9204-baa6d634f5e4",
   "metadata": {},
   "outputs": [],
   "source": [
    "import numpy as np"
   ]
  },
  {
   "cell_type": "code",
   "execution_count": 35,
   "id": "3e2e0e86-d080-4725-852d-c53c836565c4",
   "metadata": {},
   "outputs": [
    {
     "data": {
      "text/plain": [
       "array([10, 20, 30, 40, 50])"
      ]
     },
     "execution_count": 35,
     "metadata": {},
     "output_type": "execute_result"
    }
   ],
   "source": [
    "arr=np.array([10,20,30,40,50])\n",
    "arr"
   ]
  },
  {
   "cell_type": "markdown",
   "id": "2c66132c-7737-4419-8e15-c5b0346b1cb6",
   "metadata": {},
   "source": [
    "Question 2:\n",
    "How can you check the shape and data type of the array you just created?\n",
    "Write the code to display both."
   ]
  },
  {
   "cell_type": "code",
   "execution_count": 41,
   "id": "78f64e9c-7985-406d-87c3-06c0ade7ebb6",
   "metadata": {},
   "outputs": [
    {
     "name": "stdout",
     "output_type": "stream",
     "text": [
      "(5,)\n",
      "int32\n"
     ]
    }
   ],
   "source": [
    "arr_s = arr.shape  # Shape of the array\n",
    "arr_t = arr.dtype  # Data type of the array\n",
    "print(arr_s)\n",
    "print(arr_t)"
   ]
  },
  {
   "cell_type": "markdown",
   "id": "f9a6a260-faa4-4338-8bb8-06fac77483a0",
   "metadata": {},
   "source": [
    "Question 3:\n",
    "Create a 2D NumPy array with the following values:\n",
    "[[1, 2, 3],\n",
    " [4, 5, 6],\n",
    " [7, 8, 9]]\n",
    "Then print the shape of this 2D array."
   ]
  },
  {
   "cell_type": "code",
   "execution_count": 76,
   "id": "9e796759-eb6d-49bd-aee1-92fce9b6f87e",
   "metadata": {},
   "outputs": [
    {
     "data": {
      "text/plain": [
       "array([[1, 2, 3],\n",
       "       [4, 5, 6],\n",
       "       [7, 8, 9]])"
      ]
     },
     "execution_count": 76,
     "metadata": {},
     "output_type": "execute_result"
    }
   ],
   "source": [
    "arr=np.array([[1,2,3],[4, 5, 6], [7, 8, 9]])\n",
    "arr"
   ]
  },
  {
   "cell_type": "code",
   "execution_count": null,
   "id": "9b1601ff-9534-479c-a685-7d3fe63b5e82",
   "metadata": {},
   "outputs": [],
   "source": []
  },
  {
   "cell_type": "markdown",
   "id": "5a778ab3-c331-44a4-9688-6dad53dea900",
   "metadata": {},
   "source": [
    "Question 4:\n",
    "How can you access the element in the second row and third column of this 2D array? Write the code to retrieve it."
   ]
  },
  {
   "cell_type": "code",
   "execution_count": 83,
   "id": "a9032601-0a5a-4f6d-b682-d840f9027776",
   "metadata": {},
   "outputs": [
    {
     "data": {
      "text/plain": [
       "6"
      ]
     },
     "execution_count": 83,
     "metadata": {},
     "output_type": "execute_result"
    }
   ],
   "source": [
    "arr[1,2]"
   ]
  },
  {
   "cell_type": "code",
   "execution_count": null,
   "id": "5ebbbd6f-e06f-4ce9-8a1d-a5bbc4df164b",
   "metadata": {},
   "outputs": [],
   "source": []
  },
  {
   "cell_type": "markdown",
   "id": "6e46caa2-d909-4372-a33e-ec93aae0697b",
   "metadata": {},
   "source": [
    "Question 5:\n",
    "How can you extract the first two rows and the last two columns from the following 2D array?\n"
   ]
  },
  {
   "cell_type": "code",
   "execution_count": 92,
   "id": "80e2a1da-50e0-45a8-b037-f37f23336023",
   "metadata": {},
   "outputs": [
    {
     "name": "stdout",
     "output_type": "stream",
     "text": [
      "[[3 4]\n",
      " [7 8]]\n"
     ]
    }
   ],
   "source": [
    "import numpy as np\n",
    "\n",
    "arr = np.array([[1, 2, 3, 4],\n",
    "                [5, 6, 7, 8],\n",
    "                [9, 10, 11, 12]])\n",
    "\n",
    "result = arr[:2, -2:]\n",
    "print(result)\n"
   ]
  },
  {
   "cell_type": "code",
   "execution_count": null,
   "id": "5d3ce1ed-f2a7-4532-913e-2827d4f28e64",
   "metadata": {},
   "outputs": [],
   "source": []
  },
  {
   "cell_type": "markdown",
   "id": "7dc1d068-0a11-4727-9a8d-3b86d9406786",
   "metadata": {},
   "source": [
    "Question 6:\n",
    "Create a 5x5 NumPy array of zeros and then set the diagonal of the array to 1."
   ]
  },
  {
   "cell_type": "code",
   "execution_count": 104,
   "id": "bc9ded92-fff0-4b3b-b596-2a271ddd5fa3",
   "metadata": {},
   "outputs": [
    {
     "data": {
      "text/plain": [
       "array([[1., 0., 0., 0., 0.],\n",
       "       [0., 1., 0., 0., 0.],\n",
       "       [0., 0., 1., 0., 0.],\n",
       "       [0., 0., 0., 1., 0.],\n",
       "       [0., 0., 0., 0., 1.]])"
      ]
     },
     "execution_count": 104,
     "metadata": {},
     "output_type": "execute_result"
    }
   ],
   "source": [
    "arr=np.identity(5)\n",
    "arr"
   ]
  },
  {
   "cell_type": "code",
   "execution_count": null,
   "id": "386d19e1-2339-4541-b237-2d49d25fc5ce",
   "metadata": {},
   "outputs": [],
   "source": []
  },
  {
   "cell_type": "markdown",
   "id": "29530463-23fe-4d60-bbb8-7fba318a3ed4",
   "metadata": {},
   "source": [
    "Question 7:\n",
    "Create a 3x3 NumPy array with random values between 0 and 1. Then round all the values to 2 decimal places."
   ]
  },
  {
   "cell_type": "code",
   "execution_count": 129,
   "id": "f403bbb0-4807-4000-8ebe-3f02334f5643",
   "metadata": {},
   "outputs": [
    {
     "name": "stdout",
     "output_type": "stream",
     "text": [
      "[[0.59 0.09 0.8 ]\n",
      " [0.83 0.26 0.6 ]\n",
      " [0.44 0.45 0.59]]\n"
     ]
    }
   ],
   "source": [
    "arr = np.random.rand(3, 3)  # Random values between 0 and 1\n",
    "arr = np.round(arr, 2)  # Round values to 2 decimal places\n",
    "print(arr)\n"
   ]
  },
  {
   "cell_type": "code",
   "execution_count": null,
   "id": "b8ac9ea0-6877-4379-9154-d9c949c42ec4",
   "metadata": {},
   "outputs": [],
   "source": []
  },
  {
   "cell_type": "markdown",
   "id": "ebead919-f3a3-4779-9fc0-d47356469820",
   "metadata": {},
   "source": [
    "Question 8:\n",
    "Create a 1D NumPy array with values ranging from 10 to 50 (inclusive) with a step size of 5."
   ]
  },
  {
   "cell_type": "code",
   "execution_count": 138,
   "id": "d2c136c2-93f8-4680-82a0-6fa5c441caef",
   "metadata": {},
   "outputs": [
    {
     "name": "stdout",
     "output_type": "stream",
     "text": [
      "[10 15 20 25 30 35 40 45 50]\n"
     ]
    }
   ],
   "source": [
    "arr = np.arange(10, 51, 5)\n",
    "print(arr)\n"
   ]
  },
  {
   "cell_type": "code",
   "execution_count": null,
   "id": "4f07c64b-aebd-4292-9766-18ac0554ab0f",
   "metadata": {},
   "outputs": [],
   "source": []
  },
  {
   "cell_type": "markdown",
   "id": "db11a449-034a-4d46-be7f-5876b991db86",
   "metadata": {},
   "source": [
    "Question 9:Create a 4x4 NumPy array with values ranging from 10 to 20 (inclusive), and then find the sum of all the elements in the array."
   ]
  },
  {
   "cell_type": "code",
   "execution_count": 146,
   "id": "eb923a95-879a-4691-abc4-b75c41c2107a",
   "metadata": {},
   "outputs": [
    {
     "data": {
      "text/plain": [
       "array([10, 11, 12, 13, 14, 15, 16, 17, 18, 19])"
      ]
     },
     "execution_count": 146,
     "metadata": {},
     "output_type": "execute_result"
    }
   ],
   "source": [
    "arr = np.arange(10, 20)\n",
    "arr"
   ]
  },
  {
   "cell_type": "code",
   "execution_count": null,
   "id": "fd6cbbed-4385-44f4-a074-13c758863925",
   "metadata": {},
   "outputs": [],
   "source": [
    "\n"
   ]
  }
 ],
 "metadata": {
  "kernelspec": {
   "display_name": "Python 3 (ipykernel)",
   "language": "python",
   "name": "python3"
  },
  "language_info": {
   "codemirror_mode": {
    "name": "ipython",
    "version": 3
   },
   "file_extension": ".py",
   "mimetype": "text/x-python",
   "name": "python",
   "nbconvert_exporter": "python",
   "pygments_lexer": "ipython3",
   "version": "3.12.3"
  }
 },
 "nbformat": 4,
 "nbformat_minor": 5
}
